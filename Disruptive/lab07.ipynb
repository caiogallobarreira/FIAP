{
 "cells": [
  {
   "cell_type": "markdown",
   "metadata": {},
   "source": [
    "# MLP - Tensorflow"
   ]
  },
  {
   "cell_type": "code",
   "execution_count": 8,
   "metadata": {},
   "outputs": [
    {
     "name": "stderr",
     "output_type": "stream",
     "text": [
      "Matplotlib is building the font cache; this may take a moment.\n"
     ]
    }
   ],
   "source": [
    "# Imports\n",
    "import tensorflow as tf\n",
    "from tensorflow import keras\n",
    "from keras import layers\n",
    "import pandas as pd\n",
    "import numpy as np\n",
    "import seaborn as sns"
   ]
  },
  {
   "cell_type": "code",
   "execution_count": 9,
   "metadata": {},
   "outputs": [
    {
     "name": "stdout",
     "output_type": "stream",
     "text": [
      "<class 'pandas.core.frame.DataFrame'>\n",
      "RangeIndex: 500 entries, 0 to 499\n",
      "Data columns (total 2 columns):\n",
      " #   Column       Non-Null Count  Dtype  \n",
      "---  ------       --------------  -----  \n",
      " 0   Temperature  500 non-null    float64\n",
      " 1   Revenue      500 non-null    float64\n",
      "dtypes: float64(2)\n",
      "memory usage: 7.9 KB\n"
     ]
    }
   ],
   "source": [
    "df = pd.read_csv('SalesData.csv')\n",
    "df.info()\n",
    "\n",
    "X_train = df['Temperature']\n",
    "y_train = df['Revenue']"
   ]
  },
  {
   "cell_type": "code",
   "execution_count": 10,
   "metadata": {},
   "outputs": [
    {
     "name": "stderr",
     "output_type": "stream",
     "text": [
      "c:\\ProgramData\\Anaconda3\\lib\\site-packages\\seaborn\\_decorators.py:36: FutureWarning: Pass the following variables as keyword args: x, y. From version 0.12, the only valid positional argument will be `data`, and passing other arguments without an explicit keyword will result in an error or misinterpretation.\n",
      "  warnings.warn(\n"
     ]
    },
    {
     "data": {
      "image/png": "[encoded data removed]",
      "text/plain": [
       "<Figure size 432x288 with 1 Axes>"
      ]
     },
     "metadata": {
      "needs_background": "light"
     },
     "output_type": "display_data"
    }
   ],
   "source": [
    "sns.scatterplot(X_train, y_train);"
   ]
  },
  {
   "cell_type": "code",
   "execution_count": 33,
   "metadata": {},
   "outputs": [
    {
     "name": "stdout",
     "output_type": "stream",
     "text": [
      "Epoch 1/90\n",
      "16/16 [==============================] - 0s 922us/step - loss: 298362.4062\n",
      "Epoch 2/90\n",
      "16/16 [==============================] - 0s 887us/step - loss: 216424.7188\n",
      "Epoch 3/90\n",
      "16/16 [==============================] - 0s 1ms/step - loss: 48175.4062\n",
      "Epoch 4/90\n",
      "16/16 [==============================] - 0s 1ms/step - loss: 5825.1660\n",
      "Epoch 5/90\n",
      "16/16 [==============================] - 0s 1ms/step - loss: 1433.4956\n",
      "Epoch 6/90\n",
      "16/16 [==============================] - 0s 1ms/step - loss: 953.5090\n",
      "Epoch 7/90\n",
      "16/16 [==============================] - 0s 3ms/step - loss: 714.0945\n",
      "Epoch 8/90\n",
      "16/16 [==============================] - 0s 1ms/step - loss: 657.6199\n",
      "Epoch 9/90\n",
      "16/16 [==============================] - 0s 1ms/step - loss: 662.2503\n",
      "Epoch 10/90\n",
      "16/16 [==============================] - 0s 1ms/step - loss: 656.5950\n",
      "Epoch 11/90\n",
      "16/16 [==============================] - 0s 1ms/step - loss: 656.7566\n",
      "Epoch 12/90\n",
      "16/16 [==============================] - 0s 866us/step - loss: 657.7342\n",
      "Epoch 13/90\n",
      "16/16 [==============================] - 0s 933us/step - loss: 655.9092\n",
      "Epoch 14/90\n",
      "16/16 [==============================] - 0s 934us/step - loss: 651.2209\n",
      "Epoch 15/90\n",
      "16/16 [==============================] - 0s 1ms/step - loss: 651.3989\n",
      "Epoch 16/90\n",
      "16/16 [==============================] - 0s 1ms/step - loss: 649.9313\n",
      "Epoch 17/90\n",
      "16/16 [==============================] - 0s 1ms/step - loss: 648.6580\n",
      "Epoch 18/90\n",
      "16/16 [==============================] - 0s 867us/step - loss: 648.7166\n",
      "Epoch 19/90\n",
      "16/16 [==============================] - 0s 933us/step - loss: 652.8456\n",
      "Epoch 20/90\n",
      "16/16 [==============================] - 0s 1ms/step - loss: 647.6989\n",
      "Epoch 21/90\n",
      "16/16 [==============================] - 0s 1000us/step - loss: 660.3319\n",
      "Epoch 22/90\n",
      "16/16 [==============================] - 0s 1ms/step - loss: 652.6147\n",
      "Epoch 23/90\n",
      "16/16 [==============================] - 0s 1ms/step - loss: 669.5304\n",
      "Epoch 24/90\n",
      "16/16 [==============================] - 0s 933us/step - loss: 649.0506\n",
      "Epoch 25/90\n",
      "16/16 [==============================] - 0s 933us/step - loss: 645.8565\n",
      "Epoch 26/90\n",
      "16/16 [==============================] - 0s 933us/step - loss: 645.6960\n",
      "Epoch 27/90\n",
      "16/16 [==============================] - 0s 800us/step - loss: 645.3749\n",
      "Epoch 28/90\n",
      "16/16 [==============================] - 0s 1ms/step - loss: 643.8625\n",
      "Epoch 29/90\n",
      "16/16 [==============================] - 0s 935us/step - loss: 640.5957\n",
      "Epoch 30/90\n",
      "16/16 [==============================] - 0s 935us/step - loss: 639.3793\n",
      "Epoch 31/90\n",
      "16/16 [==============================] - 0s 935us/step - loss: 639.0106\n",
      "Epoch 32/90\n",
      "16/16 [==============================] - 0s 931us/step - loss: 638.7001\n",
      "Epoch 33/90\n",
      "16/16 [==============================] - 0s 867us/step - loss: 641.4227\n",
      "Epoch 34/90\n",
      "16/16 [==============================] - 0s 933us/step - loss: 636.2688\n",
      "Epoch 35/90\n",
      "16/16 [==============================] - 0s 1000us/step - loss: 661.6127\n",
      "Epoch 36/90\n",
      "16/16 [==============================] - 0s 1ms/step - loss: 635.7081\n",
      "Epoch 37/90\n",
      "16/16 [==============================] - 0s 865us/step - loss: 638.2534\n",
      "Epoch 38/90\n",
      "16/16 [==============================] - 0s 933us/step - loss: 642.8093\n",
      "Epoch 39/90\n",
      "16/16 [==============================] - 0s 935us/step - loss: 635.4504\n",
      "Epoch 40/90\n",
      "16/16 [==============================] - 0s 933us/step - loss: 635.1649\n",
      "Epoch 41/90\n",
      "16/16 [==============================] - 0s 1ms/step - loss: 633.8773\n",
      "Epoch 42/90\n",
      "16/16 [==============================] - 0s 998us/step - loss: 639.0030\n",
      "Epoch 43/90\n",
      "16/16 [==============================] - 0s 933us/step - loss: 634.0480\n",
      "Epoch 44/90\n",
      "16/16 [==============================] - 0s 935us/step - loss: 633.5309\n",
      "Epoch 45/90\n",
      "16/16 [==============================] - 0s 869us/step - loss: 634.0462\n",
      "Epoch 46/90\n",
      "16/16 [==============================] - 0s 933us/step - loss: 645.2682\n",
      "Epoch 47/90\n",
      "16/16 [==============================] - 0s 867us/step - loss: 642.8807\n",
      "Epoch 48/90\n",
      "16/16 [==============================] - 0s 868us/step - loss: 634.1326\n",
      "Epoch 49/90\n",
      "16/16 [==============================] - 0s 1ms/step - loss: 630.3405\n",
      "Epoch 50/90\n",
      "16/16 [==============================] - 0s 866us/step - loss: 640.0905\n",
      "Epoch 51/90\n",
      "16/16 [==============================] - 0s 867us/step - loss: 631.6763\n",
      "Epoch 52/90\n",
      "16/16 [==============================] - 0s 933us/step - loss: 633.1642\n",
      "Epoch 53/90\n",
      "16/16 [==============================] - 0s 866us/step - loss: 631.6251\n",
      "Epoch 54/90\n",
      "16/16 [==============================] - 0s 867us/step - loss: 631.9084\n",
      "Epoch 55/90\n",
      "16/16 [==============================] - 0s 933us/step - loss: 632.7363\n",
      "Epoch 56/90\n",
      "16/16 [==============================] - 0s 934us/step - loss: 641.2628\n",
      "Epoch 57/90\n",
      "16/16 [==============================] - 0s 867us/step - loss: 635.6614\n",
      "Epoch 58/90\n",
      "16/16 [==============================] - 0s 933us/step - loss: 630.0959\n",
      "Epoch 59/90\n",
      "16/16 [==============================] - 0s 932us/step - loss: 641.4317\n",
      "Epoch 60/90\n",
      "16/16 [==============================] - 0s 1000us/step - loss: 636.5958\n",
      "Epoch 61/90\n",
      "16/16 [==============================] - 0s 867us/step - loss: 640.4250\n",
      "Epoch 62/90\n",
      "16/16 [==============================] - 0s 933us/step - loss: 636.7310\n",
      "Epoch 63/90\n",
      "16/16 [==============================] - 0s 867us/step - loss: 632.2476\n",
      "Epoch 64/90\n",
      "16/16 [==============================] - 0s 935us/step - loss: 627.5853\n",
      "Epoch 65/90\n",
      "16/16 [==============================] - 0s 867us/step - loss: 676.1301\n",
      "Epoch 66/90\n",
      "16/16 [==============================] - 0s 1ms/step - loss: 628.6243\n",
      "Epoch 67/90\n",
      "16/16 [==============================] - 0s 935us/step - loss: 630.6370\n",
      "Epoch 68/90\n",
      "16/16 [==============================] - 0s 933us/step - loss: 637.4152\n",
      "Epoch 69/90\n",
      "16/16 [==============================] - 0s 1ms/step - loss: 625.4939\n",
      "Epoch 70/90\n",
      "16/16 [==============================] - 0s 933us/step - loss: 633.6378\n",
      "Epoch 71/90\n",
      "16/16 [==============================] - 0s 868us/step - loss: 626.0261\n",
      "Epoch 72/90\n",
      "16/16 [==============================] - 0s 935us/step - loss: 627.7672\n",
      "Epoch 73/90\n",
      "16/16 [==============================] - 0s 933us/step - loss: 630.1928\n",
      "Epoch 74/90\n",
      "16/16 [==============================] - 0s 934us/step - loss: 628.3327\n",
      "Epoch 75/90\n",
      "16/16 [==============================] - 0s 933us/step - loss: 630.1600\n",
      "Epoch 76/90\n",
      "16/16 [==============================] - 0s 935us/step - loss: 627.4966\n",
      "Epoch 77/90\n",
      "16/16 [==============================] - 0s 868us/step - loss: 629.7942\n",
      "Epoch 78/90\n",
      "16/16 [==============================] - 0s 932us/step - loss: 636.1367\n",
      "Epoch 79/90\n",
      "16/16 [==============================] - 0s 867us/step - loss: 628.7949\n",
      "Epoch 80/90\n",
      "16/16 [==============================] - 0s 867us/step - loss: 628.1465\n",
      "Epoch 81/90\n",
      "16/16 [==============================] - 0s 933us/step - loss: 626.1765\n",
      "Epoch 82/90\n",
      "16/16 [==============================] - 0s 931us/step - loss: 630.4764\n",
      "Epoch 83/90\n",
      "16/16 [==============================] - 0s 933us/step - loss: 632.1400\n",
      "Epoch 84/90\n",
      "16/16 [==============================] - 0s 867us/step - loss: 625.8858\n",
      "Epoch 85/90\n",
      "16/16 [==============================] - 0s 933us/step - loss: 620.4271\n",
      "Epoch 86/90\n",
      "16/16 [==============================] - 0s 933us/step - loss: 642.9320\n",
      "Epoch 87/90\n",
      "16/16 [==============================] - 0s 868us/step - loss: 628.4217\n",
      "Epoch 88/90\n",
      "16/16 [==============================] - 0s 933us/step - loss: 636.6571\n",
      "Epoch 89/90\n",
      "16/16 [==============================] - 0s 1ms/step - loss: 635.7870\n",
      "Epoch 90/90\n",
      "16/16 [==============================] - 0s 933us/step - loss: 631.5598\n"
     ]
    },
    {
     "data": {
      "text/plain": [
       "<AxesSubplot:>"
      ]
     },
     "execution_count": 33,
     "metadata": {},
     "output_type": "execute_result"
    },
    {
     "data": {
      "image/png": "[encoded data removed]",
      "text/plain": [
       "<Figure size 432x288 with 1 Axes>"
      ]
     },
     "metadata": {
      "needs_background": "light"
     },
     "output_type": "display_data"
    }
   ],
   "source": [
    "model = keras.Sequential([\n",
    "    layers.Dense(units=1, input_shape=[1]),\n",
    "    layers.Dense(units=5),\n",
    "])\n",
    "\n",
    "model.compile(optimizer=tf.keras.optimizers.Adam(0.1), loss = 'mse')\n",
    "epochs_hist = model.fit(X_train, y_train, epochs=90)\n",
    "\n",
    "history_df = pd.DataFrame(epochs_hist.history)\n",
    "history_df['loss'].plot()"
   ]
  },
  {
   "cell_type": "code",
   "execution_count": 34,
   "metadata": {},
   "outputs": [
    {
     "name": "stdout",
     "output_type": "stream",
     "text": [
      "Downloading data from https://storage.googleapis.com/tensorflow/tf-keras-datasets/train-labels-idx1-ubyte.gz\n",
      "29515/29515 [==============================] - 0s 0us/step\n",
      "Downloading data from https://storage.googleapis.com/tensorflow/tf-keras-datasets/train-images-idx3-ubyte.gz\n",
      "26421880/26421880 [==============================] - 10s 0us/step\n",
      "Downloading data from https://storage.googleapis.com/tensorflow/tf-keras-datasets/t10k-labels-idx1-ubyte.gz\n",
      "5148/5148 [==============================] - 0s 0s/step\n",
      "Downloading data from https://storage.googleapis.com/tensorflow/tf-keras-datasets/t10k-images-idx3-ubyte.gz\n",
      "4422102/4422102 [==============================] - 2s 0us/step\n"
     ]
    }
   ],
   "source": [
    "fashion_mnist = keras.datasets.fashion_mnist\n",
    "\n",
    "(train_images, train_labels), (test_images, test_labels) = fashion_mnist.load_data()"
   ]
  }
 ],
 "metadata": {
  "kernelspec": {
   "display_name": "Python 3.9.12 ('base')",
   "language": "python",
   "name": "python3"
  },
  "language_info": {
   "codemirror_mode": {
    "name": "ipython",
    "version": 3
   },
   "file_extension": ".py",
   "mimetype": "text/x-python",
   "name": "python",
   "nbconvert_exporter": "python",
   "pygments_lexer": "ipython3",
   "version": "3.9.12"
  },
  "orig_nbformat": 4,
  "vscode": {
   "interpreter": {
    "hash": "ad2bdc8ecc057115af97d19610ffacc2b4e99fae6737bb82f5d7fb13d2f2c186"
   }
  }
 },
 "nbformat": 4,
 "nbformat_minor": 2
}
